{
 "cells": [
  {
   "cell_type": "code",
   "execution_count": null,
   "id": "9931979e-3787-4161-b61f-a475201073e3",
   "metadata": {},
   "outputs": [],
   "source": [
    "# Author: Xavier Tidus Hutchinson\n",
    "# University: UNSW Australian Defence Force Academy, Canberra ACT, AU.\n",
    "# Licence: My work is free for all to use. Other licences may apply.\n",
    "#\n",
    "# Special Thanks & Recognition: \n",
    "# This notebook leverages the fantastic work and research of UNB and requries their published\n",
    "# CICMalDroid2020 Datasets to function.\n",
    "#\n",
    "# You can request access to your own copies by visiting their website here: https://www.unb.ca/cic/datasets/maldroid-2020.html\n",
    "#\n",
    "# Please credit the authors in your work and maintain refrences.\n",
    "#\n",
    "#\n",
    "# Be careful, all sense of safety is an illiusion. \n",
    "# It's a wild world."
   ]
  },
  {
   "cell_type": "code",
   "execution_count": null,
   "id": "f42ddbc4-a3c7-4010-91e7-62c4badc0a0d",
   "metadata": {},
   "outputs": [],
   "source": [
    "%%bash\n",
    "# The dataset contains quite a lot of files. The benign dataset is enormous, as are the sum total of malicious \n",
    "# files. Thus, we may benefit from taking a random sampleset from each.\n",
    "dir_working_path_root=\"./\"\n",
    " \n",
    "dir_source_apk_path_root=\"/mnt/hgfs/vmshare/CICMalwareSamples/source-apks\"\n",
    "dir_source_apk_working_path_root=\"$dir_working_path_root/source-apks\"\n",
    " \n",
    "dir_malicious_source_apks=\"$dir_source_apk_path_root/malicious\"\n",
    "dir_malicious_working_apks=\"$dir_source_apk_path_root/working/malicious\"\n",
    "dir_benign_source_apks=\"$dir_source_apk_path_root/benign\"\n",
    "dir_benign_working_apks=\"$dir_source_apk_path_root/working/benign\"\n",
    " \n",
    "# Where the specific malware source apks are stored\n",
    "dir_malicious_source_apks_adware=\"$dir_malicious_source_apks/adware\"\n",
    "dir_malicious_source_apks_banking=\"$dir_malicious_source_apks/banking\"\n",
    "dir_malicious_source_apks_riskware=\"$dir_malicious_source_apks/riskware\"\n",
    "dir_malicious_source_apks_sms2=\"$dir_malicious_source_apks/sms2\"\n",
    " \n",
    "# Depending on your goals you may wish to include only some or all of the below.\n",
    "# 1 = True, 0 = False\n",
    "include_banking_in_sample=1\n",
    "include_adware_in_sample=1\n",
    "include_riskware_in_sample=1\n",
    "include_sms2_in_sample=1"
   ]
  },
  {
   "cell_type": "code",
   "execution_count": null,
   "id": "9dbd9195-2abc-4ec1-bd8f-a31acb810c0d",
   "metadata": {},
   "outputs": [],
   "source": [
    "%%bash\n",
    "#create working directories if they don't already exist and if they do exist, empty them.\n",
    "mkdir -p $dir_source_apk_working_path_root\n",
    "rm -R $dir_source_apk_working_path_root/*\n",
    " \n",
    "mkdir -p $dir_benign_working_apks\n",
    "rm -R $dir_benign_working_apks/*\n",
    " \n",
    "mkdir -p $dir_malicious_working_apks\n",
    "rm -R $dir_malicious_working_apks/*"
   ]
  },
  {
   "cell_type": "code",
   "execution_count": null,
   "id": "1e64acdd-72fd-47cb-b5de-d362a075d618",
   "metadata": {},
   "outputs": [],
   "source": [
    "%%bash\n",
    "# Let's list the pre-extracted source samples available to us to leverage\n",
    "echo \"MALICIOUS SAMPLES\"\n",
    "echo \"Adwords Samples: $(find $dir_malicious_source_apks_adware -max-deth 1 -f | wc -l)\"\n",
    "echo \"Banking Samples: $(find $dir_malicious_source_apks_banking -max-deth 1 -f | wc -l)\"\n",
    "echo \"Riskware Samples: $(find $dir_malicious_source_apks_riskware -max-deth 1 -f | wc -l)\"\n",
    "echo \"SMS2 Samples: $(find $dir_malicious_source_apks_sms2 -max-deth 1 -f | wc -l)\"\n",
    "echo \"BENIGN SAMPLES\"\n",
    "echo \"Benign Samples: $(find $dir_benign_source_apks -max-deth 1 -f | wc -l)\""
   ]
  },
  {
   "cell_type": "code",
   "execution_count": null,
   "id": "51894aed-48a2-43db-b63d-016a6612eeba",
   "metadata": {},
   "outputs": [],
   "source": [
    "%%bash\n",
    "# What is the target sampleset (expressed as units)? Default = 100\n",
    "target_sample_set=100\n",
    " "
   ]
  },
  {
   "cell_type": "code",
   "execution_count": null,
   "id": "ea54f5d6-0fc2-4f5d-8025-9fa851d1532f",
   "metadata": {},
   "outputs": [],
   "source": [
    "%%bash\n",
    "#and then the same again for the malicious apks.\n",
    "for apk in ~/apks/malicious/Banking/*.apk; do\n",
    "    apktool d \"$apk\" -o ~/apks/decompiled/malicious/\"$(basename \"$apk\" .apk)\"\n",
    "done"
   ]
  },
  {
   "cell_type": "code",
   "execution_count": null,
   "id": "eece8a12-e5bc-430a-872a-facf64f59700",
   "metadata": {},
   "outputs": [],
   "source": [
    "%%bash\n",
    "#First we will extract the APKs for our begnin apks. \n",
    " \n",
    "for apk in ~/apks/benign/Benign/*.apk; do\n",
    "    apktool d \"$apk\" -o ~/apks/decompiled/benign/\"$(basename \"$apk\" .apk)\"\n",
    "done"
   ]
  },
  {
   "cell_type": "code",
   "execution_count": null,
   "id": "3d168c85-f443-4553-9117-26dda069dec9",
   "metadata": {},
   "outputs": [],
   "source": [
    "%%bash\n",
    "# We can verify if the extraction using APKTool was successful by checking for the smali folders in each\n",
    "ls ~/apks/decompiled/benign/*/smali\n",
    "ls ~/apks/decompiled/malicious/*/smali"
   ]
  },
  {
   "cell_type": "code",
   "execution_count": null,
   "id": "46a4e2b8-88b8-48e5-b292-601d9e63ea98",
   "metadata": {},
   "outputs": [],
   "source": [
    "# General imports\n",
    "import os\n",
    "import glob"
   ]
  },
  {
   "cell_type": "code",
   "execution_count": null,
   "id": "288d8c60-0bd6-4251-9a51-86851b6369ce",
   "metadata": {},
   "outputs": [],
   "source": [
    "# define a function that we can use to extract our smali data\n",
    " \n",
    "def extract_smali(indir, output_file):\n",
    "    with open(output_file, 'w') as of:\n",
    "        #begin our walk through the mine field\n",
    "        for smali_file in glob.glob(f\"{input_dir}/**/smali/**/*.smali\", recursive=True):\n",
    "            with open(smali_file, 'r') as infile:\n",
    "                of.write(infile.read() + '\\n')"
   ]
  },
  {
   "cell_type": "code",
   "execution_count": null,
   "id": "d2e190a7-7eba-449f-b584-5c5954cb12ca",
   "metadata": {},
   "outputs": [],
   "source": [
    "# Set our working paths\n",
    "dir_benign = '~/apks/decompiled/benign/Benign'\n",
    "dir_malicious = '~/apks/decompiled/malicious/Banking'\n",
    "dir_benign_output = '~/apks/benign_smali.txt'\n",
    "dir_malicious_output = '~/apks/malicioius_smali.txt'"
   ]
  },
  {
   "cell_type": "code",
   "execution_count": null,
   "id": "9584eaa4-6dd9-4579-bbed-7b9c910db862",
   "metadata": {},
   "outputs": [],
   "source": [
    "# Perform the extraction of our smali code for malicious and bengin\n",
    " \n",
    "extract_smali(dir_benign, dir_benign_output)\n",
    "extract_smali(dir_malicious, dir_malicious_output)"
   ]
  },
  {
   "cell_type": "code",
   "execution_count": null,
   "id": "68833b26-b763-480f-92d9-81493ccf8d4f",
   "metadata": {},
   "outputs": [],
   "source": [
    "%%bash\n",
    "# Verify our output\n",
    "ls ~/apks/*.txt\n",
    "head -n 10 ~/apks/benign_smali.txt"
   ]
  },
  {
   "cell_type": "code",
   "execution_count": null,
   "id": "e51715fe-65b1-4e16-b84f-82b3b7a817ea",
   "metadata": {},
   "outputs": [],
   "source": [
    "# N-GRAM time\n",
    "#\n",
    "# you can adjust the n weight below (my default: 3,3):\n",
    "n_gram_weight_min = 3\n",
    "n_gram_weight_max = 3\n",
    "from sklearn.feature_extraction.text import CountVectorizer\n",
    "import numpy as np\n",
    " \n",
    "#process the smali code\n",
    "with open(dir_benign_output, 'r') as f:\n",
    "    benign_text = [f.read()]\n",
    " \n",
    "with open(dir_malicious_output, 'r') as f:\n",
    "    malicious_text = [f.read()]\n",
    " \n",
    "# Initialise a CounVectorizer for 3-grams\n",
    "vectorizer = CountVectorizer(analyzer='word', ngram_range=(n_gram_weight_min,n_gram_weight_max), token_pattern=r'\\S+')\n",
    " \n",
    "#combine texts for vocab\n",
    "combined_text = benign_text + malicious_text\n",
    "X = vectorizer.fir_transform(combined_text)\n",
    " \n",
    "#get counts\n",
    "benign_counts = X[0].toarray().flatten()\n",
    "malicious_counts = X[0].toarray().flatten()\n",
    " \n",
    "# take the top 50 n-grams by total frequency\n",
    "total_counts = benign_counts + malicious_counts\n",
    "top_indicies = np.argsort(total_counts)[::-1][:50]\n",
    "top_ngrams = ngrams[top_indicies]\n",
    "top_benign_counts = benign_counts[top_indicies]\n",
    "top_malicious_counts = malicious_counts[top_indicies]\n",
    " \n",
    "#save our data for the plotting work\n",
    "np.savez('ngram_data.npz', ngrams=top_ngrams, benign=top_benign_counts, malicious=top_malicious_counts)\n",
    " \n",
    "# now we will plot our work\n",
    "import numpy as np\n",
    "import matplotlib.pyplot as plt\n",
    " \n",
    "# Load n-gram data\n",
    "data = np.load('ngram_data.npz')\n",
    "ngrams = data['ngrams']\n",
    "benign_counts = data['benign']\n",
    "malicious_counts = data['malicious']\n",
    " \n",
    "# Plot settings\n",
    "x = np.arange(len(ngrams))\n",
    "width = 0.35\n",
    " \n",
    "# Create figure\n",
    "plt.figure(figsize=(15, 8))\n",
    "plt.bar(x - width/2, benign_counts, width, label='Benign', color='#1f77b4')\n",
    "plt.bar(x + width/2, malicious_counts, width, label='Malicious', color='#ff7f0e')\n",
    "plt.xlabel('N-Grams')\n",
    "plt.ylabel('Frequency')\n",
    "plt.title('Top 50 3-Gram freq-dist. in Benign v. Malicious APKs')\n",
    "plt.xticks(x, ngrams, rotation=90)\n",
    "plt.legend()\n",
    " \n",
    "# Add description text at the bottom\n",
    "description = (\n",
    "    \"[Xavier Hutchinson (z5626926) ZEIT8025 Research Project 2025 S1]\"\n",
    "    \"Generated using Matplotlib 3.5.1 in Python on Kali Linux. Decompiled .apk files were \"\n",
    "    \"processed to extract 3-grams using CountVectorizer. Frequencies of top 50 3-grams in \"\n",
    "    \"benign vs. malicious apps were plotted as a bar chart, highlighting distinct patterns \"\n",
    "    \"(e.g., higher network call n-grams in malicious apps).\"\n",
    ")\n",
    "plt.figtext(0.5, 0.01, description, wrap=True, horizontalalignment='center', \n",
    "            fontsize=10, bbox=dict(facecolor='white', alpha=0.8))\n",
    " \n",
    "# Adjust layout to prevent overlap\n",
    "plt.tight_layout(rect=[0, 0.1, 1, 1])  # Leave space at bottom for text\n",
    " \n",
    "# Save and show plot\n",
    "plt.savefig('./ngram_frequency.png', dpi=300, bbox_inches='tight')\n",
    "plt.show()"
   ]
  }
 ],
 "metadata": {
  "kernelspec": {
   "display_name": "Python 3 (ipykernel)",
   "language": "python",
   "name": "python3"
  },
  "language_info": {
   "codemirror_mode": {
    "name": "ipython",
    "version": 3
   },
   "file_extension": ".py",
   "mimetype": "text/x-python",
   "name": "python",
   "nbconvert_exporter": "python",
   "pygments_lexer": "ipython3",
   "version": "3.13.4"
  }
 },
 "nbformat": 4,
 "nbformat_minor": 5
}
